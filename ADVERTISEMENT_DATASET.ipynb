{
  "nbformat": 4,
  "nbformat_minor": 0,
  "metadata": {
    "colab": {
      "name": "ADVERTISEMENT_DATASET.ipynb",
      "provenance": [],
      "collapsed_sections": [
        "8XcikUYc8YKB",
        "XX-pxnu3NkD-",
        "MFG7azpvUMbC",
        "YTsvEKeK645B",
        "Q-Eb6emQLQDb",
        "LxkXK-PN4XRw",
        "9obD620M9adN",
        "xwrHbYOoQIRx"
      ],
      "authorship_tag": "ABX9TyPdfHFh1Wa+Xjg/retkOT/s",
      "include_colab_link": true
    },
    "kernelspec": {
      "name": "python3",
      "display_name": "Python 3"
    }
  },
  "cells": [
    {
      "cell_type": "markdown",
      "metadata": {
        "id": "view-in-github",
        "colab_type": "text"
      },
      "source": [
        "<a href=\"https://colab.research.google.com/github/AnshuBajaj911/Advertisement-Dataset-using-LINEAR-REGRESSION/blob/master/ADVERTISEMENT_DATASET.ipynb\" target=\"_parent\"><img src=\"https://colab.research.google.com/assets/colab-badge.svg\" alt=\"Open In Colab\"/></a>"
      ]
    },
    {
      "cell_type": "code",
      "metadata": {
        "id": "MWodDznJNu4Y",
        "colab_type": "code",
        "colab": {}
      },
      "source": [
        "import pandas as pd\n",
        "import matplotlib.pyplot as plt\n",
        "import numpy as np\n",
        "import seaborn as sb"
      ],
      "execution_count": 639,
      "outputs": []
    },
    {
      "cell_type": "code",
      "metadata": {
        "id": "3fYBCnV6PIjD",
        "colab_type": "code",
        "colab": {}
      },
      "source": [
        "df=pd.read_csv('/content/Advertising.csv',index_col=0)"
      ],
      "execution_count": 640,
      "outputs": []
    },
    {
      "cell_type": "code",
      "metadata": {
        "id": "lIasTb52Ry5x",
        "colab_type": "code",
        "colab": {
          "base_uri": "https://localhost:8080/",
          "height": 33
        },
        "outputId": "9f30aa14-23f3-48d3-e919-10f0d63a5976"
      },
      "source": [
        "df.columns"
      ],
      "execution_count": 641,
      "outputs": [
        {
          "output_type": "execute_result",
          "data": {
            "text/plain": [
              "Index(['TV', 'radio', 'newspaper', 'sales'], dtype='object')"
            ]
          },
          "metadata": {
            "tags": []
          },
          "execution_count": 641
        }
      ]
    },
    {
      "cell_type": "code",
      "metadata": {
        "id": "-u-ITDkXSBTj",
        "colab_type": "code",
        "colab": {
          "base_uri": "https://localhost:8080/",
          "height": 196
        },
        "outputId": "86c3e289-a431-48c1-fbd3-c07f528f3001"
      },
      "source": [
        "df.head()"
      ],
      "execution_count": 642,
      "outputs": [
        {
          "output_type": "execute_result",
          "data": {
            "text/html": [
              "<div>\n",
              "<style scoped>\n",
              "    .dataframe tbody tr th:only-of-type {\n",
              "        vertical-align: middle;\n",
              "    }\n",
              "\n",
              "    .dataframe tbody tr th {\n",
              "        vertical-align: top;\n",
              "    }\n",
              "\n",
              "    .dataframe thead th {\n",
              "        text-align: right;\n",
              "    }\n",
              "</style>\n",
              "<table border=\"1\" class=\"dataframe\">\n",
              "  <thead>\n",
              "    <tr style=\"text-align: right;\">\n",
              "      <th></th>\n",
              "      <th>TV</th>\n",
              "      <th>radio</th>\n",
              "      <th>newspaper</th>\n",
              "      <th>sales</th>\n",
              "    </tr>\n",
              "  </thead>\n",
              "  <tbody>\n",
              "    <tr>\n",
              "      <th>1</th>\n",
              "      <td>230.1</td>\n",
              "      <td>37.8</td>\n",
              "      <td>69.2</td>\n",
              "      <td>22.1</td>\n",
              "    </tr>\n",
              "    <tr>\n",
              "      <th>2</th>\n",
              "      <td>44.5</td>\n",
              "      <td>39.3</td>\n",
              "      <td>45.1</td>\n",
              "      <td>10.4</td>\n",
              "    </tr>\n",
              "    <tr>\n",
              "      <th>3</th>\n",
              "      <td>17.2</td>\n",
              "      <td>45.9</td>\n",
              "      <td>69.3</td>\n",
              "      <td>9.3</td>\n",
              "    </tr>\n",
              "    <tr>\n",
              "      <th>4</th>\n",
              "      <td>151.5</td>\n",
              "      <td>41.3</td>\n",
              "      <td>58.5</td>\n",
              "      <td>18.5</td>\n",
              "    </tr>\n",
              "    <tr>\n",
              "      <th>5</th>\n",
              "      <td>180.8</td>\n",
              "      <td>10.8</td>\n",
              "      <td>58.4</td>\n",
              "      <td>12.9</td>\n",
              "    </tr>\n",
              "  </tbody>\n",
              "</table>\n",
              "</div>"
            ],
            "text/plain": [
              "      TV  radio  newspaper  sales\n",
              "1  230.1   37.8       69.2   22.1\n",
              "2   44.5   39.3       45.1   10.4\n",
              "3   17.2   45.9       69.3    9.3\n",
              "4  151.5   41.3       58.5   18.5\n",
              "5  180.8   10.8       58.4   12.9"
            ]
          },
          "metadata": {
            "tags": []
          },
          "execution_count": 642
        }
      ]
    },
    {
      "cell_type": "code",
      "metadata": {
        "id": "0cXO7AYKSAlZ",
        "colab_type": "code",
        "colab": {
          "base_uri": "https://localhost:8080/",
          "height": 224
        },
        "outputId": "460d1f4e-c204-426a-a9ef-14ceeb468767"
      },
      "source": [
        "sb.pairplot(df,x_vars=['TV','radio','newspaper'],y_vars='sales',kind='reg')"
      ],
      "execution_count": 643,
      "outputs": [
        {
          "output_type": "execute_result",
          "data": {
            "text/plain": [
              "<seaborn.axisgrid.PairGrid at 0x7f51e1e6ceb8>"
            ]
          },
          "metadata": {
            "tags": []
          },
          "execution_count": 643
        },
        {
          "output_type": "display_data",
          "data": {
            "image/png": "[encoded data removed]",
            "text/plain": [
              "<Figure size 540x180 with 3 Axes>"
            ]
          },
          "metadata": {
            "tags": [],
            "needs_background": "light"
          }
        }
      ]
    },
    {
      "cell_type": "markdown",
      "metadata": {
        "id": "8XcikUYc8YKB",
        "colab_type": "text"
      },
      "source": [
        "# ***TV AS INPUT***"
      ]
    },
    {
      "cell_type": "code",
      "metadata": {
        "id": "1aYVETgVSHN9",
        "colab_type": "code",
        "colab": {}
      },
      "source": [
        "x = df[['TV']]\n",
        "x1 = df[['TV','radio']]\n",
        "x2 = df[['TV','radio','newspaper']]\n",
        "y=df[['sales']]"
      ],
      "execution_count": 644,
      "outputs": []
    },
    {
      "cell_type": "code",
      "metadata": {
        "id": "9ROTBNcuSwtC",
        "colab_type": "code",
        "colab": {
          "base_uri": "https://localhost:8080/",
          "height": 0
        },
        "outputId": "96130810-7c14-4875-a2d8-834075a83ec3"
      },
      "source": [
        "x.shape"
      ],
      "execution_count": 645,
      "outputs": [
        {
          "output_type": "execute_result",
          "data": {
            "text/plain": [
              "(200, 1)"
            ]
          },
          "metadata": {
            "tags": []
          },
          "execution_count": 645
        }
      ]
    },
    {
      "cell_type": "code",
      "metadata": {
        "id": "ah7vEbdeS0oy",
        "colab_type": "code",
        "colab": {
          "base_uri": "https://localhost:8080/",
          "height": 0
        },
        "outputId": "be8ed452-f29a-41ab-8907-755319faf7c8"
      },
      "source": [
        "y.shape"
      ],
      "execution_count": 646,
      "outputs": [
        {
          "output_type": "execute_result",
          "data": {
            "text/plain": [
              "(200, 1)"
            ]
          },
          "metadata": {
            "tags": []
          },
          "execution_count": 646
        }
      ]
    },
    {
      "cell_type": "code",
      "metadata": {
        "id": "fo3sn_TyS2Aa",
        "colab_type": "code",
        "colab": {}
      },
      "source": [
        "from sklearn .model_selection import train_test_split\n",
        "from sklearn import metrics"
      ],
      "execution_count": 647,
      "outputs": []
    },
    {
      "cell_type": "code",
      "metadata": {
        "id": "832uLEl9TBTl",
        "colab_type": "code",
        "colab": {}
      },
      "source": [
        "X_train,X_test,y_train,y_test=train_test_split(x,y,random_state=1)"
      ],
      "execution_count": 648,
      "outputs": []
    },
    {
      "cell_type": "code",
      "metadata": {
        "id": "waPAUEUhTGU5",
        "colab_type": "code",
        "colab": {
          "base_uri": "https://localhost:8080/",
          "height": 0
        },
        "outputId": "466c4eb7-2379-48e7-dfe1-ebbe87987dfa"
      },
      "source": [
        "X_train"
      ],
      "execution_count": 649,
      "outputs": [
        {
          "output_type": "execute_result",
          "data": {
            "text/html": [
              "<div>\n",
              "<style scoped>\n",
              "    .dataframe tbody tr th:only-of-type {\n",
              "        vertical-align: middle;\n",
              "    }\n",
              "\n",
              "    .dataframe tbody tr th {\n",
              "        vertical-align: top;\n",
              "    }\n",
              "\n",
              "    .dataframe thead th {\n",
              "        text-align: right;\n",
              "    }\n",
              "</style>\n",
              "<table border=\"1\" class=\"dataframe\">\n",
              "  <thead>\n",
              "    <tr style=\"text-align: right;\">\n",
              "      <th></th>\n",
              "      <th>TV</th>\n",
              "    </tr>\n",
              "  </thead>\n",
              "  <tbody>\n",
              "    <tr>\n",
              "      <th>99</th>\n",
              "      <td>289.7</td>\n",
              "    </tr>\n",
              "    <tr>\n",
              "      <th>124</th>\n",
              "      <td>123.1</td>\n",
              "    </tr>\n",
              "    <tr>\n",
              "      <th>120</th>\n",
              "      <td>19.4</td>\n",
              "    </tr>\n",
              "    <tr>\n",
              "      <th>54</th>\n",
              "      <td>182.6</td>\n",
              "    </tr>\n",
              "    <tr>\n",
              "      <th>34</th>\n",
              "      <td>265.6</td>\n",
              "    </tr>\n",
              "    <tr>\n",
              "      <th>...</th>\n",
              "      <td>...</td>\n",
              "    </tr>\n",
              "    <tr>\n",
              "      <th>134</th>\n",
              "      <td>219.8</td>\n",
              "    </tr>\n",
              "    <tr>\n",
              "      <th>138</th>\n",
              "      <td>273.7</td>\n",
              "    </tr>\n",
              "    <tr>\n",
              "      <th>73</th>\n",
              "      <td>26.8</td>\n",
              "    </tr>\n",
              "    <tr>\n",
              "      <th>141</th>\n",
              "      <td>73.4</td>\n",
              "    </tr>\n",
              "    <tr>\n",
              "      <th>38</th>\n",
              "      <td>74.7</td>\n",
              "    </tr>\n",
              "  </tbody>\n",
              "</table>\n",
              "<p>150 rows × 1 columns</p>\n",
              "</div>"
            ],
            "text/plain": [
              "        TV\n",
              "99   289.7\n",
              "124  123.1\n",
              "120   19.4\n",
              "54   182.6\n",
              "34   265.6\n",
              "..     ...\n",
              "134  219.8\n",
              "138  273.7\n",
              "73    26.8\n",
              "141   73.4\n",
              "38    74.7\n",
              "\n",
              "[150 rows x 1 columns]"
            ]
          },
          "metadata": {
            "tags": []
          },
          "execution_count": 649
        }
      ]
    },
    {
      "cell_type": "code",
      "metadata": {
        "id": "zubutBLkTLbv",
        "colab_type": "code",
        "colab": {
          "base_uri": "https://localhost:8080/",
          "height": 0
        },
        "outputId": "569c7627-694c-4f93-95bd-6778a4e11b36"
      },
      "source": [
        "y_train"
      ],
      "execution_count": 650,
      "outputs": [
        {
          "output_type": "execute_result",
          "data": {
            "text/html": [
              "<div>\n",
              "<style scoped>\n",
              "    .dataframe tbody tr th:only-of-type {\n",
              "        vertical-align: middle;\n",
              "    }\n",
              "\n",
              "    .dataframe tbody tr th {\n",
              "        vertical-align: top;\n",
              "    }\n",
              "\n",
              "    .dataframe thead th {\n",
              "        text-align: right;\n",
              "    }\n",
              "</style>\n",
              "<table border=\"1\" class=\"dataframe\">\n",
              "  <thead>\n",
              "    <tr style=\"text-align: right;\">\n",
              "      <th></th>\n",
              "      <th>sales</th>\n",
              "    </tr>\n",
              "  </thead>\n",
              "  <tbody>\n",
              "    <tr>\n",
              "      <th>99</th>\n",
              "      <td>25.4</td>\n",
              "    </tr>\n",
              "    <tr>\n",
              "      <th>124</th>\n",
              "      <td>15.2</td>\n",
              "    </tr>\n",
              "    <tr>\n",
              "      <th>120</th>\n",
              "      <td>6.6</td>\n",
              "    </tr>\n",
              "    <tr>\n",
              "      <th>54</th>\n",
              "      <td>21.2</td>\n",
              "    </tr>\n",
              "    <tr>\n",
              "      <th>34</th>\n",
              "      <td>17.4</td>\n",
              "    </tr>\n",
              "    <tr>\n",
              "      <th>...</th>\n",
              "      <td>...</td>\n",
              "    </tr>\n",
              "    <tr>\n",
              "      <th>134</th>\n",
              "      <td>19.6</td>\n",
              "    </tr>\n",
              "    <tr>\n",
              "      <th>138</th>\n",
              "      <td>20.8</td>\n",
              "    </tr>\n",
              "    <tr>\n",
              "      <th>73</th>\n",
              "      <td>8.8</td>\n",
              "    </tr>\n",
              "    <tr>\n",
              "      <th>141</th>\n",
              "      <td>10.9</td>\n",
              "    </tr>\n",
              "    <tr>\n",
              "      <th>38</th>\n",
              "      <td>14.7</td>\n",
              "    </tr>\n",
              "  </tbody>\n",
              "</table>\n",
              "<p>150 rows × 1 columns</p>\n",
              "</div>"
            ],
            "text/plain": [
              "     sales\n",
              "99    25.4\n",
              "124   15.2\n",
              "120    6.6\n",
              "54    21.2\n",
              "34    17.4\n",
              "..     ...\n",
              "134   19.6\n",
              "138   20.8\n",
              "73     8.8\n",
              "141   10.9\n",
              "38    14.7\n",
              "\n",
              "[150 rows x 1 columns]"
            ]
          },
          "metadata": {
            "tags": []
          },
          "execution_count": 650
        }
      ]
    },
    {
      "cell_type": "code",
      "metadata": {
        "id": "RzBnd3_ETNpx",
        "colab_type": "code",
        "colab": {}
      },
      "source": [
        "from sklearn.linear_model import LinearRegression"
      ],
      "execution_count": 651,
      "outputs": []
    },
    {
      "cell_type": "code",
      "metadata": {
        "id": "JdrBlJd4TREq",
        "colab_type": "code",
        "colab": {
          "base_uri": "https://localhost:8080/",
          "height": 0
        },
        "outputId": "8baf4830-58f4-4387-f535-a2b58a0df84e"
      },
      "source": [
        "lm=LinearRegression()\n",
        "lm.fit(X_train,y_train)"
      ],
      "execution_count": 652,
      "outputs": [
        {
          "output_type": "execute_result",
          "data": {
            "text/plain": [
              "LinearRegression(copy_X=True, fit_intercept=True, n_jobs=None, normalize=False)"
            ]
          },
          "metadata": {
            "tags": []
          },
          "execution_count": 652
        }
      ]
    },
    {
      "cell_type": "code",
      "metadata": {
        "id": "3EQyOodKTWw2",
        "colab_type": "code",
        "colab": {
          "base_uri": "https://localhost:8080/",
          "height": 0
        },
        "outputId": "df7a5b44-e630-4d49-cff1-664d87e16fa9"
      },
      "source": [
        "print(lm.intercept_)\n",
        "print(lm.coef_)"
      ],
      "execution_count": 653,
      "outputs": [
        {
          "output_type": "stream",
          "text": [
            "[6.91197262]\n",
            "[[0.04802945]]\n"
          ],
          "name": "stdout"
        }
      ]
    },
    {
      "cell_type": "code",
      "metadata": {
        "id": "k8Yoo1HGTfUv",
        "colab_type": "code",
        "colab": {
          "base_uri": "https://localhost:8080/",
          "height": 0
        },
        "outputId": "7b033c75-ed71-4b41-fb47-f49d53d176e3"
      },
      "source": [
        "y_pred = lm.predict(X_test)\n",
        "y_pred.ravel()"
      ],
      "execution_count": 654,
      "outputs": [
        {
          "output_type": "execute_result",
          "data": {
            "text/plain": [
              "array([17.03658069, 16.63793625, 11.50839099, 20.36982452, 19.10184704,\n",
              "       20.53312465, 14.75518181, 15.59569719, 10.30285179, 17.25751616,\n",
              "       14.81281715, 10.23561056, 17.22389554, 12.18560623, 17.75702244,\n",
              "       12.94927449, 13.23745119, 20.87413375,  8.14152654, 17.03177774,\n",
              "       11.7341294 , 10.16836933,  8.11751182, 12.07033555, 12.33449753,\n",
              "       15.96072101,  8.98204192, 18.86169979, 14.92328489, 18.44384358,\n",
              "       18.43423769, 18.17487866, 14.10198129, 15.08658502, 18.84248801,\n",
              "       15.79261793, 17.59372231, 13.12698346, 17.32475739,  7.85334984,\n",
              "        7.54115841, 11.2538349 ,  7.81012333, 16.71478337,  7.2625876 ,\n",
              "       13.98671061, 10.66787561, 17.86268723, 16.75800988, 17.9347314 ])"
            ]
          },
          "metadata": {
            "tags": []
          },
          "execution_count": 654
        }
      ]
    },
    {
      "cell_type": "markdown",
      "metadata": {
        "id": "SgKFBcnU7-59",
        "colab_type": "text"
      },
      "source": [
        "***ROOT MEAN SQUARED ERROR***"
      ]
    },
    {
      "cell_type": "code",
      "metadata": {
        "id": "joT6C62OTrew",
        "colab_type": "code",
        "colab": {
          "base_uri": "https://localhost:8080/",
          "height": 0
        },
        "outputId": "e1be9200-8d93-46de-925e-ea4e2fe9e2ba"
      },
      "source": [
        "TV_RMS = np.sqrt(metrics.mean_squared_error(y_test,y_pred))\n",
        "TV_RMS"
      ],
      "execution_count": 655,
      "outputs": [
        {
          "output_type": "execute_result",
          "data": {
            "text/plain": [
              "3.210929707703542"
            ]
          },
          "metadata": {
            "tags": []
          },
          "execution_count": 655
        }
      ]
    },
    {
      "cell_type": "markdown",
      "metadata": {
        "id": "uECDt7IGM4Eo",
        "colab_type": "text"
      },
      "source": [
        "## **RADIO AS INPUT**"
      ]
    },
    {
      "cell_type": "code",
      "metadata": {
        "id": "1nFilc5eM_B8",
        "colab_type": "code",
        "colab": {}
      },
      "source": [
        "x5 = df[['radio']]\n",
        "X_train,X_test,y_train,y_test=train_test_split(x5,y,random_state=0)"
      ],
      "execution_count": 656,
      "outputs": []
    },
    {
      "cell_type": "code",
      "metadata": {
        "id": "WvTZgawENOWe",
        "colab_type": "code",
        "colab": {
          "base_uri": "https://localhost:8080/",
          "height": 0
        },
        "outputId": "fb8d100f-050a-47db-e89c-8314c4936c5c"
      },
      "source": [
        "lm=LinearRegression()\n",
        "lm.fit(X_train,y_train)"
      ],
      "execution_count": 657,
      "outputs": [
        {
          "output_type": "execute_result",
          "data": {
            "text/plain": [
              "LinearRegression(copy_X=True, fit_intercept=True, n_jobs=None, normalize=False)"
            ]
          },
          "metadata": {
            "tags": []
          },
          "execution_count": 657
        }
      ]
    },
    {
      "cell_type": "code",
      "metadata": {
        "id": "aKSnaXCCNRFg",
        "colab_type": "code",
        "colab": {}
      },
      "source": [
        "y_pred = lm.predict(X_test)"
      ],
      "execution_count": 658,
      "outputs": []
    },
    {
      "cell_type": "markdown",
      "metadata": {
        "id": "TToQMd0zOryS",
        "colab_type": "text"
      },
      "source": [
        "***ROOT MEAN SQUARED ERROR***"
      ]
    },
    {
      "cell_type": "code",
      "metadata": {
        "id": "iNNtQV5ZNYAp",
        "colab_type": "code",
        "colab": {
          "base_uri": "https://localhost:8080/",
          "height": 0
        },
        "outputId": "8f376a2f-3b67-4ab8-fc9b-4c5400b2d447"
      },
      "source": [
        "RADIO_RMS=np.sqrt(metrics.mean_squared_error(y_test,y_pred))\n",
        "RADIO_RMS"
      ],
      "execution_count": 659,
      "outputs": [
        {
          "output_type": "execute_result",
          "data": {
            "text/plain": [
              "4.899060395166175"
            ]
          },
          "metadata": {
            "tags": []
          },
          "execution_count": 659
        }
      ]
    },
    {
      "cell_type": "markdown",
      "metadata": {
        "id": "XX-pxnu3NkD-",
        "colab_type": "text"
      },
      "source": [
        "## **NEWSPAPER AS INPUT**"
      ]
    },
    {
      "cell_type": "code",
      "metadata": {
        "id": "rX7LEOlKNo5P",
        "colab_type": "code",
        "colab": {}
      },
      "source": [
        "x6 = df[['newspaper']]\n",
        "X_train,X_test,y_train,y_test=train_test_split(x6,y,random_state=0)"
      ],
      "execution_count": 660,
      "outputs": []
    },
    {
      "cell_type": "code",
      "metadata": {
        "id": "c5mkTR6eNv3X",
        "colab_type": "code",
        "colab": {
          "base_uri": "https://localhost:8080/",
          "height": 0
        },
        "outputId": "72b11190-762b-458a-ff0e-4f08bf00c32d"
      },
      "source": [
        "lm=LinearRegression()\n",
        "lm.fit(X_train,y_train)"
      ],
      "execution_count": 661,
      "outputs": [
        {
          "output_type": "execute_result",
          "data": {
            "text/plain": [
              "LinearRegression(copy_X=True, fit_intercept=True, n_jobs=None, normalize=False)"
            ]
          },
          "metadata": {
            "tags": []
          },
          "execution_count": 661
        }
      ]
    },
    {
      "cell_type": "markdown",
      "metadata": {
        "id": "5vFILPQtOvRs",
        "colab_type": "text"
      },
      "source": [
        "***ROOT MEAN SQUARED ERROR***"
      ]
    },
    {
      "cell_type": "code",
      "metadata": {
        "id": "0ESsu56vNy6j",
        "colab_type": "code",
        "colab": {
          "base_uri": "https://localhost:8080/",
          "height": 0
        },
        "outputId": "bb0499b2-21f8-42d2-ac7a-83ecf5af9996"
      },
      "source": [
        "y_pred = lm.predict(X_test)\n",
        "NEWSPAPER_RMS=np.sqrt(metrics.mean_squared_error(y_test,y_pred))\n",
        "NEWSPAPER_RMS"
      ],
      "execution_count": 662,
      "outputs": [
        {
          "output_type": "execute_result",
          "data": {
            "text/plain": [
              "5.56358248959608"
            ]
          },
          "metadata": {
            "tags": []
          },
          "execution_count": 662
        }
      ]
    },
    {
      "cell_type": "markdown",
      "metadata": {
        "id": "MFG7azpvUMbC",
        "colab_type": "text"
      },
      "source": [
        "# **TV AND RADIO AS INPUTS**"
      ]
    },
    {
      "cell_type": "code",
      "metadata": {
        "id": "HJZ1if0VTuwI",
        "colab_type": "code",
        "colab": {}
      },
      "source": [
        "x1 = df[['TV','radio']]\n",
        "y1=df[['sales']]"
      ],
      "execution_count": 663,
      "outputs": []
    },
    {
      "cell_type": "code",
      "metadata": {
        "id": "sHT2Vd7i3uqs",
        "colab_type": "code",
        "colab": {}
      },
      "source": [
        "X_train,X_test,y_train,y_test=train_test_split(x1,y,random_state=0)"
      ],
      "execution_count": 664,
      "outputs": []
    },
    {
      "cell_type": "code",
      "metadata": {
        "id": "vKXOV7zU30TF",
        "colab_type": "code",
        "colab": {
          "base_uri": "https://localhost:8080/",
          "height": 0
        },
        "outputId": "4d26313b-50d4-4803-de5f-7fe7a27adc95"
      },
      "source": [
        "lm=LinearRegression()\n",
        "lm.fit(X_train,y_train)"
      ],
      "execution_count": 665,
      "outputs": [
        {
          "output_type": "execute_result",
          "data": {
            "text/plain": [
              "LinearRegression(copy_X=True, fit_intercept=True, n_jobs=None, normalize=False)"
            ]
          },
          "metadata": {
            "tags": []
          },
          "execution_count": 665
        }
      ]
    },
    {
      "cell_type": "code",
      "metadata": {
        "id": "jf7njwvk37h7",
        "colab_type": "code",
        "colab": {
          "base_uri": "https://localhost:8080/",
          "height": 0
        },
        "outputId": "2c26fe6d-c459-4880-bbba-49616ae8cb24"
      },
      "source": [
        "print(lm.intercept_)\n",
        "print(lm.coef_)"
      ],
      "execution_count": 666,
      "outputs": [
        {
          "output_type": "stream",
          "text": [
            "[2.91092373]\n",
            "[[0.04419729 0.19946953]]\n"
          ],
          "name": "stdout"
        }
      ]
    },
    {
      "cell_type": "code",
      "metadata": {
        "id": "CrK8PQr352nC",
        "colab_type": "code",
        "colab": {
          "base_uri": "https://localhost:8080/",
          "height": 0
        },
        "outputId": "a2977195-6be7-4489-8e4a-6942614583e9"
      },
      "source": [
        "y_pred = lm.predict(X_test)\n",
        "y_pred.ravel()"
      ],
      "execution_count": 667,
      "outputs": [
        {
          "output_type": "execute_result",
          "data": {
            "text/plain": [
              "array([10.05850143,  7.43463468,  6.9661994 , 24.15243914, 11.98916444,\n",
              "        6.53178763, 13.04950021, 14.97882008, 10.96419972, 16.29194785,\n",
              "       22.97702398,  9.11866768, 10.35083976, 15.41998146, 11.61343299,\n",
              "       12.13304052, 18.63911396, 10.84085527, 16.06625596, 17.24957539,\n",
              "       24.1992535 ,  9.4907953 , 15.13793325, 12.40194589,  5.67441768,\n",
              "       15.25325562, 12.22468988, 20.96744356, 13.28984304,  9.1466426 ,\n",
              "       13.20808468, 21.55555909, 18.08972886, 21.17325034,  6.66589347,\n",
              "        6.15099434,  7.93871645, 13.05606428, 14.81041234,  6.21002077,\n",
              "       12.24132755,  9.21008876, 15.0711734 , 16.28374757, 17.13850043,\n",
              "       13.3542833 ,  3.70990642, 12.3746764 , 15.82694849,  8.67093635])"
            ]
          },
          "metadata": {
            "tags": []
          },
          "execution_count": 667
        }
      ]
    },
    {
      "cell_type": "markdown",
      "metadata": {
        "id": "rrfiVSr2720-",
        "colab_type": "text"
      },
      "source": [
        "***ROOT MEAN SQUARED ERROR***"
      ]
    },
    {
      "cell_type": "code",
      "metadata": {
        "id": "OxRHNXbz52YB",
        "colab_type": "code",
        "colab": {
          "base_uri": "https://localhost:8080/",
          "height": 0
        },
        "outputId": "9b3d7dba-7135-4019-80aa-e57733a93e65"
      },
      "source": [
        "TV_RADIO_RMS=np.sqrt(metrics.mean_squared_error(y_test,y_pred))\n",
        "TV_RADIO_RMS"
      ],
      "execution_count": 668,
      "outputs": [
        {
          "output_type": "execute_result",
          "data": {
            "text/plain": [
              "1.9999631665562612"
            ]
          },
          "metadata": {
            "tags": []
          },
          "execution_count": 668
        }
      ]
    },
    {
      "cell_type": "markdown",
      "metadata": {
        "id": "YTsvEKeK645B",
        "colab_type": "text"
      },
      "source": [
        "# ***RADIO AND NEWSPAPER AS INPUTS***"
      ]
    },
    {
      "cell_type": "code",
      "metadata": {
        "id": "QQJJHWtE66OL",
        "colab_type": "code",
        "colab": {}
      },
      "source": [
        "x3 = df[['radio','newspaper']]\n",
        "X_train,X_test,y_train,y_test=train_test_split(x3,y,random_state=1)"
      ],
      "execution_count": 669,
      "outputs": []
    },
    {
      "cell_type": "code",
      "metadata": {
        "id": "mgg-cRSM80oP",
        "colab_type": "code",
        "colab": {
          "base_uri": "https://localhost:8080/",
          "height": 0
        },
        "outputId": "bd755a2c-df68-4238-89d9-f2c9ea841ff5"
      },
      "source": [
        "lm=LinearRegression()\n",
        "lm.fit(X_train,y_train)"
      ],
      "execution_count": 670,
      "outputs": [
        {
          "output_type": "execute_result",
          "data": {
            "text/plain": [
              "LinearRegression(copy_X=True, fit_intercept=True, n_jobs=None, normalize=False)"
            ]
          },
          "metadata": {
            "tags": []
          },
          "execution_count": 670
        }
      ]
    },
    {
      "cell_type": "code",
      "metadata": {
        "id": "LF2wp0qH9EOZ",
        "colab_type": "code",
        "colab": {
          "base_uri": "https://localhost:8080/",
          "height": 0
        },
        "outputId": "d177b26c-b5aa-44dc-d396-a991db01255d"
      },
      "source": [
        "y_pred = lm.predict(X_test)\n",
        "y_pred.ravel()"
      ],
      "execution_count": 671,
      "outputs": [
        {
          "output_type": "execute_result",
          "data": {
            "text/plain": [
              "array([18.82611685, 13.68427011,  9.47817373, 11.28325008, 13.47691703,\n",
              "       17.81165326, 15.70129891, 11.92381633, 12.64415757, 14.2841085 ,\n",
              "       13.64306612, 13.16715868, 13.61812185, 18.68181245, 11.41590367,\n",
              "       17.04632283, 13.00317597,  9.99356634, 16.47021457, 14.71023692,\n",
              "       10.9448432 , 17.47125141, 14.47570655, 11.86078671, 12.87314583,\n",
              "       12.82332872, 14.54774448, 14.45339526, 16.94729328, 12.52668289,\n",
              "       17.06039712, 10.9174088 , 15.79476253, 11.04769604, 14.99180382,\n",
              "       13.31087745,  9.92739904, 10.60479844, 17.62514976, 13.07510439,\n",
              "        9.54421247,  9.49254799, 11.68138702, 15.84686505, 14.89409792,\n",
              "       13.80809155, 18.26320206, 16.54280957, 17.74252445, 16.12508479])"
            ]
          },
          "metadata": {
            "tags": []
          },
          "execution_count": 671
        }
      ]
    },
    {
      "cell_type": "markdown",
      "metadata": {
        "id": "3ZPmA14u9Mty",
        "colab_type": "text"
      },
      "source": [
        "***ROOT MEAN SQUARED ERROR***"
      ]
    },
    {
      "cell_type": "code",
      "metadata": {
        "id": "n68gKQkM9H2_",
        "colab_type": "code",
        "colab": {
          "base_uri": "https://localhost:8080/",
          "height": 0
        },
        "outputId": "eb5af3d9-f7fc-42a4-c4f0-168bde645ce2"
      },
      "source": [
        "RADIO_NEWSPAPER_RMS=np.sqrt(metrics.mean_squared_error(y_test,y_pred))\n",
        "RADIO_NEWSPAPER_RMS"
      ],
      "execution_count": 672,
      "outputs": [
        {
          "output_type": "execute_result",
          "data": {
            "text/plain": [
              "3.7486974974677265"
            ]
          },
          "metadata": {
            "tags": []
          },
          "execution_count": 672
        }
      ]
    },
    {
      "cell_type": "markdown",
      "metadata": {
        "id": "Q-Eb6emQLQDb",
        "colab_type": "text"
      },
      "source": [
        "# **TV AND NEWSPAPER AS INPUTS**"
      ]
    },
    {
      "cell_type": "code",
      "metadata": {
        "id": "D_Z1MMq7Lg8d",
        "colab_type": "code",
        "colab": {}
      },
      "source": [
        "x4 = df[['TV','newspaper']]"
      ],
      "execution_count": 673,
      "outputs": []
    },
    {
      "cell_type": "code",
      "metadata": {
        "id": "7R7uVabHLw2x",
        "colab_type": "code",
        "colab": {}
      },
      "source": [
        "X_train,X_test,y_train,y_test=train_test_split(x4,y,random_state=1)"
      ],
      "execution_count": 674,
      "outputs": []
    },
    {
      "cell_type": "code",
      "metadata": {
        "id": "ME5HUalPME3T",
        "colab_type": "code",
        "colab": {
          "base_uri": "https://localhost:8080/",
          "height": 0
        },
        "outputId": "5f0cc6d6-230c-4270-bc05-b1c1a786734f"
      },
      "source": [
        "lm=LinearRegression()\n",
        "lm.fit(X_train,y_train)"
      ],
      "execution_count": 675,
      "outputs": [
        {
          "output_type": "execute_result",
          "data": {
            "text/plain": [
              "LinearRegression(copy_X=True, fit_intercept=True, n_jobs=None, normalize=False)"
            ]
          },
          "metadata": {
            "tags": []
          },
          "execution_count": 675
        }
      ]
    },
    {
      "cell_type": "code",
      "metadata": {
        "id": "Ur4X5VIbMJ_i",
        "colab_type": "code",
        "colab": {}
      },
      "source": [
        "y_pred = lm.predict(X_test)\n"
      ],
      "execution_count": 676,
      "outputs": []
    },
    {
      "cell_type": "code",
      "metadata": {
        "id": "lZuNwsUnMJ9I",
        "colab_type": "code",
        "colab": {
          "base_uri": "https://localhost:8080/",
          "height": 0
        },
        "outputId": "138e6355-75df-4182-e80d-5f8ca68b3796"
      },
      "source": [
        "TV_NEWSPAPER_RMS=np.sqrt(metrics.mean_squared_error(y_test,y_pred))\n",
        "TV_NEWSPAPER_RMS"
      ],
      "execution_count": 677,
      "outputs": [
        {
          "output_type": "execute_result",
          "data": {
            "text/plain": [
              "3.352056334433862"
            ]
          },
          "metadata": {
            "tags": []
          },
          "execution_count": 677
        }
      ]
    },
    {
      "cell_type": "markdown",
      "metadata": {
        "id": "LxkXK-PN4XRw",
        "colab_type": "text"
      },
      "source": [
        "# ***TV,RADIO,NEWSPAPER AS INPUTS***"
      ]
    },
    {
      "cell_type": "code",
      "metadata": {
        "id": "_CfEn0Dg4BK2",
        "colab_type": "code",
        "colab": {}
      },
      "source": [
        "x2 = df[['TV','radio','newspaper']]\n",
        "y2=df[['sales']]"
      ],
      "execution_count": 678,
      "outputs": []
    },
    {
      "cell_type": "code",
      "metadata": {
        "id": "UPaUrISN4mEJ",
        "colab_type": "code",
        "colab": {}
      },
      "source": [
        "X_train,X_test,y_train,y_test=train_test_split(x2,y2,random_state=1)"
      ],
      "execution_count": 679,
      "outputs": []
    },
    {
      "cell_type": "code",
      "metadata": {
        "id": "q-ggg5Tg4uMC",
        "colab_type": "code",
        "colab": {
          "base_uri": "https://localhost:8080/",
          "height": 0
        },
        "outputId": "d98b7c50-0441-4322-8ce2-79e9a5bce53f"
      },
      "source": [
        "lm=LinearRegression()\n",
        "lm.fit(X_train,y_train)"
      ],
      "execution_count": 680,
      "outputs": [
        {
          "output_type": "execute_result",
          "data": {
            "text/plain": [
              "LinearRegression(copy_X=True, fit_intercept=True, n_jobs=None, normalize=False)"
            ]
          },
          "metadata": {
            "tags": []
          },
          "execution_count": 680
        }
      ]
    },
    {
      "cell_type": "code",
      "metadata": {
        "id": "KQV8xdvM6EJN",
        "colab_type": "code",
        "colab": {
          "base_uri": "https://localhost:8080/",
          "height": 0
        },
        "outputId": "f443000c-fbc5-46a0-fd2b-1656729f0557"
      },
      "source": [
        "print(lm.intercept_)\n",
        "print(lm.coef_)"
      ],
      "execution_count": 681,
      "outputs": [
        {
          "output_type": "stream",
          "text": [
            "[2.87696662]\n",
            "[[0.04656457 0.17915812 0.00345046]]\n"
          ],
          "name": "stdout"
        }
      ]
    },
    {
      "cell_type": "code",
      "metadata": {
        "id": "BjvLD8Fl6Gbd",
        "colab_type": "code",
        "colab": {
          "base_uri": "https://localhost:8080/",
          "height": 0
        },
        "outputId": "04ea973d-218a-457a-e028-41c857b34a01"
      },
      "source": [
        "y_pred = lm.predict(X_test)\n",
        "y_pred.ravel()"
      ],
      "execution_count": 682,
      "outputs": [
        {
          "output_type": "execute_result",
          "data": {
            "text/plain": [
              "array([21.70910292, 16.41055243,  7.60955058, 17.80769552, 18.6146359 ,\n",
              "       23.83573998, 16.32488681, 13.43225536,  9.17173403, 17.333853  ,\n",
              "       14.44479482,  9.83511973, 17.18797614, 16.73086831, 15.05529391,\n",
              "       15.61434433, 12.42541574, 17.17716376, 11.08827566, 18.00537501,\n",
              "        9.28438889, 12.98458458,  8.79950614, 10.42382499, 11.3846456 ,\n",
              "       14.98082512,  9.78853268, 19.39643187, 18.18099936, 17.12807566,\n",
              "       21.54670213, 14.69809481, 16.24641438, 12.32114579, 19.92422501,\n",
              "       15.32498602, 13.88726522, 10.03162255, 20.93105915,  7.44936831,\n",
              "        3.64695761,  7.22020178,  5.9962782 , 18.43381853,  8.39408045,\n",
              "       14.08371047, 15.02195699, 20.35836418, 20.57036347, 19.60636679])"
            ]
          },
          "metadata": {
            "tags": []
          },
          "execution_count": 682
        }
      ]
    },
    {
      "cell_type": "markdown",
      "metadata": {
        "id": "iMWfsFHd7un3",
        "colab_type": "text"
      },
      "source": [
        "***ROOT MEAN SQUARED ERROR***"
      ]
    },
    {
      "cell_type": "code",
      "metadata": {
        "id": "hpHlz2K56JS-",
        "colab_type": "code",
        "colab": {
          "base_uri": "https://localhost:8080/",
          "height": 0
        },
        "outputId": "740f7cee-0fe4-4516-f184-8f1bc2019cce"
      },
      "source": [
        "TV_RADIO_NEWSPAPER_RMS=np.sqrt(metrics.mean_squared_error(y_test,y_pred))\n",
        "TV_RADIO_NEWSPAPER_RMS"
      ],
      "execution_count": 683,
      "outputs": [
        {
          "output_type": "execute_result",
          "data": {
            "text/plain": [
              "1.404651423032895"
            ]
          },
          "metadata": {
            "tags": []
          },
          "execution_count": 683
        }
      ]
    },
    {
      "cell_type": "markdown",
      "metadata": {
        "id": "9obD620M9adN",
        "colab_type": "text"
      },
      "source": [
        "# **BEST SUITABLE MODEL CAN BE CHOSEN ON THE BASIS OF MINIMUM RMS VALUES**"
      ]
    },
    {
      "cell_type": "code",
      "metadata": {
        "id": "anU8A7hd9XqS",
        "colab_type": "code",
        "colab": {
          "base_uri": "https://localhost:8080/",
          "height": 389
        },
        "outputId": "ea0a168d-3377-4e84-fdee-963feb7fce26"
      },
      "source": [
        " y = [TV_RMS,RADIO_RMS,NEWSPAPER_RMS,TV_RADIO_RMS,TV_RADIO_NEWSPAPER_RMS,RADIO_NEWSPAPER_RMS,TV_NEWSPAPER_RMS]\n",
        "a=[3,6,9,12,15,18,21]\n",
        "tlabel=['TV_RMS','RADIO_RMS','NEWSPAPER_RMS','TV_RADIO_RMS','TV_RADIO_NEWSPAPER_RMS','RADIO_NEWSPAPER_RMS','TV_NEWSPAPER_RMS']\n",
        "plt.xticks(a,tlabel,rotation=65)\n",
        "plt.bar(a,y,tick_label=tlabel,width=2)\n",
        "plt.show()"
      ],
      "execution_count": 684,
      "outputs": [
        {
          "output_type": "display_data",
          "data": {
            "image/png": "[encoded data removed]",
            "text/plain": [
              "<Figure size 432x288 with 1 Axes>"
            ]
          },
          "metadata": {
            "tags": [],
            "needs_background": "light"
          }
        }
      ]
    },
    {
      "cell_type": "markdown",
      "metadata": {
        "id": "xwrHbYOoQIRx",
        "colab_type": "text"
      },
      "source": [
        "# ***CONCLUSION***"
      ]
    },
    {
      "cell_type": "markdown",
      "metadata": {
        "id": "g2EOtTYPQcZo",
        "colab_type": "text"
      },
      "source": [
        "**BEST SUITED MODEL IS THE ONE WHICH TAKES TV,RADIO,NEWSPAPER AS INPUTS AND HAS RMS ERROR AS 1.4 APPROX.**"
      ]
    }
  ]
}